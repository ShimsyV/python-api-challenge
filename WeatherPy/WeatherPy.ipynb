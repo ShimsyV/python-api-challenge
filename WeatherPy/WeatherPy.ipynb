{
 "cells": [
  {
   "cell_type": "markdown",
   "metadata": {},
   "source": [
    "# Whats the weather like? \n",
    "\n",
    "As you get closer to the equator, we know that it gets hotter. Here is some data to prove the same by utilizing the simple Python library, the OpenWeatherMap API."
   ]
  },
  {
   "cell_type": "markdown",
   "metadata": {},
   "source": [
    "#### Import Dependencies"
   ]
  },
  {
   "cell_type": "code",
   "execution_count": 42,
   "metadata": {},
   "outputs": [],
   "source": [
    "import requests\n",
    "from pprint import pprint\n",
    "from citipy import citipy\n",
    "import matplotlib.pyplot as plt\n",
    "import requests\n",
    "from scipy import stats\n",
    "import pandas as pd\n",
    "import numpy as np\n",
    "import os\n",
    "from scipy.stats import linregress\n",
    "\n",
    "# config file with API key\n",
    "from config import api_key"
   ]
  },
  {
   "cell_type": "markdown",
   "metadata": {},
   "source": [
    "#### Save config information."
   ]
  },
  {
   "cell_type": "code",
   "execution_count": 2,
   "metadata": {},
   "outputs": [],
   "source": [
    "url = \"http://api.openweathermap.org/data/2.5/weather?units=imperial&q=\""
   ]
  },
  {
   "cell_type": "markdown",
   "metadata": {},
   "source": [
    "#### Range of latitudes and longitudes"
   ]
  },
  {
   "cell_type": "code",
   "execution_count": 3,
   "metadata": {},
   "outputs": [],
   "source": [
    "lat_range = (-90, 90)\n",
    "lng_range = (-180, 180)"
   ]
  },
  {
   "cell_type": "markdown",
   "metadata": {},
   "source": [
    "#### set up lists to hold reponse info"
   ]
  },
  {
   "cell_type": "code",
   "execution_count": 4,
   "metadata": {},
   "outputs": [],
   "source": [
    "lat_lng = []\n",
    "cities = []\n",
    "countries = []"
   ]
  },
  {
   "cell_type": "markdown",
   "metadata": {},
   "source": [
    "##### Create a set of random latitutude and longitude combinations"
   ]
  },
  {
   "cell_type": "code",
   "execution_count": 5,
   "metadata": {},
   "outputs": [],
   "source": [
    "lat = np.random.uniform(low=-90.000, high=90.000, size=1500)\n",
    "lng = np.random.uniform(low=-180.000, high=180.00, size=1500)\n",
    "lat_lng = zip(lat, lng)"
   ]
  },
  {
   "cell_type": "markdown",
   "metadata": {},
   "source": [
    "##### Identify nearest city for each latitude, longitude combination"
   ]
  },
  {
   "cell_type": "code",
   "execution_count": 6,
   "metadata": {},
   "outputs": [],
   "source": [
    "for lat_lng in lat_lng:\n",
    "    city = citipy.nearest_city(lat_lng[0], lat_lng[1]).city_name\n",
    "    country = citipy.nearest_city(lat_lng[0], lat_lng[1]).country_code\n",
    "    \n",
    "    # If the city is unique, then add it to a our cities list\n",
    "    \n",
    "    if city not in cities:\n",
    "        cities.append(city)\n",
    "        countries.append(country.upper())"
   ]
  },
  {
   "cell_type": "markdown",
   "metadata": {},
   "source": [
    "##### Print the city count"
   ]
  },
  {
   "cell_type": "code",
   "execution_count": 7,
   "metadata": {},
   "outputs": [
    {
     "name": "stdout",
     "output_type": "stream",
     "text": [
      "596\n"
     ]
    }
   ],
   "source": [
    "print(len(cities))"
   ]
  },
  {
   "cell_type": "markdown",
   "metadata": {},
   "source": [
    "##### Print the country count"
   ]
  },
  {
   "cell_type": "code",
   "execution_count": 8,
   "metadata": {},
   "outputs": [
    {
     "name": "stdout",
     "output_type": "stream",
     "text": [
      "596\n"
     ]
    }
   ],
   "source": [
    "print(len(countries))"
   ]
  },
  {
   "cell_type": "code",
   "execution_count": 9,
   "metadata": {},
   "outputs": [
    {
     "data": {
      "text/html": [
       "<div>\n",
       "<style scoped>\n",
       "    .dataframe tbody tr th:only-of-type {\n",
       "        vertical-align: middle;\n",
       "    }\n",
       "\n",
       "    .dataframe tbody tr th {\n",
       "        vertical-align: top;\n",
       "    }\n",
       "\n",
       "    .dataframe thead th {\n",
       "        text-align: right;\n",
       "    }\n",
       "</style>\n",
       "<table border=\"1\" class=\"dataframe\">\n",
       "  <thead>\n",
       "    <tr style=\"text-align: right;\">\n",
       "      <th></th>\n",
       "      <th>City</th>\n",
       "      <th>Country</th>\n",
       "      <th>Cloudiness</th>\n",
       "      <th>Humidity</th>\n",
       "      <th>Latitude</th>\n",
       "      <th>Longitude</th>\n",
       "      <th>Max Temp</th>\n",
       "      <th>Windspeed</th>\n",
       "    </tr>\n",
       "  </thead>\n",
       "  <tbody>\n",
       "    <tr>\n",
       "      <th>0</th>\n",
       "      <td>taolanaro</td>\n",
       "      <td>MG</td>\n",
       "      <td></td>\n",
       "      <td></td>\n",
       "      <td></td>\n",
       "      <td></td>\n",
       "      <td></td>\n",
       "      <td></td>\n",
       "    </tr>\n",
       "    <tr>\n",
       "      <th>1</th>\n",
       "      <td>matagami</td>\n",
       "      <td>CA</td>\n",
       "      <td></td>\n",
       "      <td></td>\n",
       "      <td></td>\n",
       "      <td></td>\n",
       "      <td></td>\n",
       "      <td></td>\n",
       "    </tr>\n",
       "    <tr>\n",
       "      <th>2</th>\n",
       "      <td>alice springs</td>\n",
       "      <td>AU</td>\n",
       "      <td></td>\n",
       "      <td></td>\n",
       "      <td></td>\n",
       "      <td></td>\n",
       "      <td></td>\n",
       "      <td></td>\n",
       "    </tr>\n",
       "    <tr>\n",
       "      <th>3</th>\n",
       "      <td>caravelas</td>\n",
       "      <td>BR</td>\n",
       "      <td></td>\n",
       "      <td></td>\n",
       "      <td></td>\n",
       "      <td></td>\n",
       "      <td></td>\n",
       "      <td></td>\n",
       "    </tr>\n",
       "    <tr>\n",
       "      <th>4</th>\n",
       "      <td>east london</td>\n",
       "      <td>ZA</td>\n",
       "      <td></td>\n",
       "      <td></td>\n",
       "      <td></td>\n",
       "      <td></td>\n",
       "      <td></td>\n",
       "      <td></td>\n",
       "    </tr>\n",
       "  </tbody>\n",
       "</table>\n",
       "</div>"
      ],
      "text/plain": [
       "            City Country Cloudiness Humidity Latitude Longitude Max Temp  \\\n",
       "0      taolanaro      MG                                                   \n",
       "1       matagami      CA                                                   \n",
       "2  alice springs      AU                                                   \n",
       "3      caravelas      BR                                                   \n",
       "4    east london      ZA                                                   \n",
       "\n",
       "  Windspeed  \n",
       "0            \n",
       "1            \n",
       "2            \n",
       "3            \n",
       "4            "
      ]
     },
     "execution_count": 9,
     "metadata": {},
     "output_type": "execute_result"
    }
   ],
   "source": [
    "#Create a dataframe to store the data\n",
    "weather_data = pd.DataFrame({'City': cities, 'Country': countries, 'Cloudiness': \"\", 'Humidity': \"\", 'Latitude': \"\", 'Longitude': \"\", 'Max Temp': \"\", 'Windspeed': \"\"})\n",
    "\n",
    "#Preview the dataframe\n",
    "weather_data.head()\n"
   ]
  },
  {
   "cell_type": "markdown",
   "metadata": {},
   "source": [
    "##### Variables to keep track of response number"
   ]
  },
  {
   "cell_type": "code",
   "execution_count": 10,
   "metadata": {},
   "outputs": [],
   "source": [
    "count_num = 1\n",
    "count_set = 1"
   ]
  },
  {
   "cell_type": "markdown",
   "metadata": {},
   "source": [
    "##### Perform API call "
   ]
  },
  {
   "cell_type": "code",
   "execution_count": 11,
   "metadata": {},
   "outputs": [
    {
     "name": "stdout",
     "output_type": "stream",
     "text": [
      "Begin API Call to OpenWeather Database \n",
      "---------------------------------------\n",
      "City not found....Skipping............\n",
      "Processing Weather Data for Record 1 for the city Matagami\n",
      "Processing Weather Data for Record 2 for the city Alice Springs\n",
      "Processing Weather Data for Record 3 for the city Caravelas\n",
      "Processing Weather Data for Record 4 for the city East London\n",
      "Processing Weather Data for Record 5 for the city Bambous Virieux\n",
      "City not found....Skipping............\n",
      "Processing Weather Data for Record 6 for the city Kumul\n",
      "Processing Weather Data for Record 7 for the city Tuktoyaktuk\n",
      "Processing Weather Data for Record 8 for the city Arraial do Cabo\n",
      "Processing Weather Data for Record 9 for the city Listvyanskiy\n",
      "Processing Weather Data for Record 10 for the city Hermanus\n",
      "Processing Weather Data for Record 11 for the city East Valencia\n",
      "Processing Weather Data for Record 12 for the city Kazachinskoye\n",
      "Processing Weather Data for Record 13 for the city Olafsvik\n",
      "Processing Weather Data for Record 14 for the city Ponta Delgada\n",
      "Processing Weather Data for Record 15 for the city Jamestown\n",
      "Processing Weather Data for Record 16 for the city Yining\n",
      "Processing Weather Data for Record 17 for the city Te Anau\n",
      "Processing Weather Data for Record 18 for the city Carutapera\n",
      "Processing Weather Data for Record 19 for the city Hofn\n",
      "Processing Weather Data for Record 20 for the city Tasiilaq\n",
      "Processing Weather Data for Record 21 for the city Norman Wells\n",
      "Processing Weather Data for Record 22 for the city Georgetown\n",
      "Processing Weather Data for Record 23 for the city Cherskiy\n",
      "Processing Weather Data for Record 24 for the city Castlegar\n",
      "Processing Weather Data for Record 25 for the city Roebourne\n",
      "Processing Weather Data for Record 26 for the city Torbay\n",
      "Processing Weather Data for Record 27 for the city Vaini\n",
      "Processing Weather Data for Record 28 for the city Luangwa\n",
      "Processing Weather Data for Record 29 for the city Bengkulu\n",
      "Processing Weather Data for Record 30 for the city Tehachapi\n",
      "Processing Weather Data for Record 31 for the city São Filipe\n",
      "Processing Weather Data for Record 32 for the city Yellowknife\n",
      "Processing Weather Data for Record 33 for the city Busselton\n",
      "City not found....Skipping............\n",
      "Processing Weather Data for Record 34 for the city Charleston\n",
      "Processing Weather Data for Record 35 for the city Lake Cowichan\n",
      "Processing Weather Data for Record 36 for the city Guarapari\n",
      "Processing Weather Data for Record 37 for the city Hithadhoo\n",
      "Processing Weather Data for Record 38 for the city Hobart\n",
      "Processing Weather Data for Record 39 for the city Karratha\n",
      "Processing Weather Data for Record 40 for the city Nago\n",
      "Processing Weather Data for Record 41 for the city Albany\n",
      "Processing Weather Data for Record 42 for the city Vendas Novas\n",
      "Processing Weather Data for Record 43 for the city Rikitea\n",
      "Processing Weather Data for Record 44 for the city Hilo\n",
      "Processing Weather Data for Record 45 for the city Port Elizabeth\n",
      "Processing Weather Data for Record 46 for the city Ushuaia\n",
      "Processing Weather Data for Record 47 for the city Kapaa\n",
      "Processing Weather Data for Record 48 for the city Ahipara\n",
      "Processing Weather Data for Record 49 for the city Dingle\n",
      "Processing Weather Data for Record 50 for the city Tiksi\n",
      "Processing Weather Data for Record 51 for the city Constitución\n",
      "Processing Weather Data for Record 52 for the city Salalah\n",
      "Processing Weather Data for Record 53 for the city Ballina\n",
      "Processing Weather Data for Record 54 for the city Morehead\n",
      "Processing Weather Data for Record 55 for the city Coyhaique\n",
      "City not found....Skipping............\n",
      "Processing Weather Data for Record 56 for the city Atuona\n",
      "Processing Weather Data for Record 57 for the city Saldanha\n",
      "Processing Weather Data for Record 58 for the city Rumonge\n",
      "Processing Weather Data for Record 59 for the city Ketchikan\n",
      "Processing Weather Data for Record 60 for the city Samarai\n",
      "Processing Weather Data for Record 61 for the city Punta Arenas\n",
      "Processing Weather Data for Record 62 for the city Torres\n",
      "Processing Weather Data for Record 63 for the city Havre-St-Pierre\n",
      "Processing Weather Data for Record 64 for the city Clyde River\n",
      "Processing Weather Data for Record 65 for the city Bequimão\n",
      "Processing Weather Data for Record 66 for the city Bredasdorp\n",
      "Processing Weather Data for Record 67 for the city Gladstone\n",
      "Processing Weather Data for Record 68 for the city Nikolskoye\n",
      "Processing Weather Data for Record 69 for the city Ransang\n",
      "Processing Weather Data for Record 70 for the city Leningradskiy\n",
      "Processing Weather Data for Record 71 for the city Lebu\n",
      "Processing Weather Data for Record 72 for the city Chara\n",
      "Processing Weather Data for Record 73 for the city Severo-Kuril'sk\n",
      "Processing Weather Data for Record 74 for the city Thompson\n",
      "City not found....Skipping............\n",
      "Processing Weather Data for Record 75 for the city Gisborne\n",
      "Processing Weather Data for Record 76 for the city Chincha Alta\n",
      "Processing Weather Data for Record 77 for the city San Patricio\n",
      "Processing Weather Data for Record 78 for the city Severnyy\n",
      "Processing Weather Data for Record 79 for the city Saint-Philippe\n",
      "Processing Weather Data for Record 80 for the city Broome\n",
      "Processing Weather Data for Record 81 for the city Camapuã\n",
      "Processing Weather Data for Record 82 for the city Mahébourg\n",
      "Processing Weather Data for Record 83 for the city Bluff\n",
      "Processing Weather Data for Record 84 for the city Butaritari\n",
      "Processing Weather Data for Record 85 for the city Port Alfred\n",
      "Processing Weather Data for Record 86 for the city Aklavik\n",
      "Processing Weather Data for Record 87 for the city Lakatoro\n",
      "Processing Weather Data for Record 88 for the city New Norfolk\n",
      "Processing Weather Data for Record 89 for the city Terrace\n",
      "Processing Weather Data for Record 90 for the city Hasaki\n",
      "Processing Weather Data for Record 91 for the city Umluj\n",
      "Processing Weather Data for Record 92 for the city Provideniya\n",
      "Processing Weather Data for Record 93 for the city Baiyin\n",
      "Processing Weather Data for Record 94 for the city Portland\n",
      "City not found....Skipping............\n",
      "Processing Weather Data for Record 95 for the city Vogar\n",
      "Processing Weather Data for Record 96 for the city Papayal\n",
      "Processing Weather Data for Record 97 for the city Ribeira Grande\n",
      "Processing Weather Data for Record 98 for the city Calamar\n",
      "Processing Weather Data for Record 99 for the city Lüderitz\n",
      "Processing Weather Data for Record 100 for the city Yulara\n",
      "Processing Weather Data for Record 101 for the city Karasburg\n",
      "Processing Weather Data for Record 102 for the city Riyadh\n",
      "Processing Weather Data for Record 103 for the city Tegul'det\n",
      "Processing Weather Data for Record 104 for the city Maumere\n",
      "Processing Weather Data for Record 105 for the city Guhāgar\n",
      "Processing Weather Data for Record 106 for the city Fortuna\n",
      "Processing Weather Data for Record 107 for the city Pangnirtung\n",
      "Processing Weather Data for Record 108 for the city Monrovia\n",
      "Processing Weather Data for Record 109 for the city Sola\n",
      "Processing Weather Data for Record 110 for the city Tuy Hoa\n",
      "City not found....Skipping............\n",
      "Processing Weather Data for Record 111 for the city Denpasar\n",
      "Processing Weather Data for Record 112 for the city Cape Town\n",
      "Processing Weather Data for Record 113 for the city Margate\n",
      "Processing Weather Data for Record 114 for the city Tahe\n",
      "Processing Weather Data for Record 115 for the city Ilulissat\n",
      "Processing Weather Data for Record 116 for the city Barrow\n",
      "Processing Weather Data for Record 117 for the city Aksay\n",
      "Processing Weather Data for Record 118 for the city Qaanaaq\n",
      "Processing Weather Data for Record 119 for the city San Quintín\n",
      "City not found....Skipping............\n",
      "Processing Weather Data for Record 120 for the city Sangar\n",
      "City not found....Skipping............\n",
      "Processing Weather Data for Record 121 for the city Faanui\n",
      "Processing Weather Data for Record 122 for the city Soyo\n",
      "Processing Weather Data for Record 123 for the city Gorontalo\n",
      "Processing Weather Data for Record 124 for the city São José da Coroa Grande\n",
      "Processing Weather Data for Record 125 for the city Zhigansk\n",
      "City not found....Skipping............\n",
      "City not found....Skipping............\n",
      "Processing Weather Data for Record 126 for the city Kurduvādi\n",
      "Processing Weather Data for Record 127 for the city Moree\n",
      "City not found....Skipping............\n"
     ]
    },
    {
     "name": "stdout",
     "output_type": "stream",
     "text": [
      "Processing Weather Data for Record 128 for the city Pevek\n",
      "Processing Weather Data for Record 129 for the city Tura\n",
      "Processing Weather Data for Record 130 for the city Deputatsky\n",
      "Processing Weather Data for Record 131 for the city Fukuechō\n",
      "Processing Weather Data for Record 132 for the city Timizart\n",
      "Processing Weather Data for Record 133 for the city Eureka\n",
      "Processing Weather Data for Record 134 for the city Il’inskiy\n",
      "Processing Weather Data for Record 135 for the city Longyearbyen\n",
      "Processing Weather Data for Record 136 for the city Laguna\n",
      "Processing Weather Data for Record 137 for the city Jurm\n",
      "Processing Weather Data for Record 138 for the city Maceió\n",
      "Processing Weather Data for Record 139 for the city Mahajanga\n",
      "Processing Weather Data for Record 140 for the city Mount Gambier\n",
      "Processing Weather Data for Record 141 for the city Haukipudas\n",
      "Processing Weather Data for Record 142 for the city Coquimbo\n",
      "Processing Weather Data for Record 143 for the city Saskylakh\n",
      "Processing Weather Data for Record 144 for the city Yar-Sale\n",
      "Processing Weather Data for Record 145 for the city Inhambane\n",
      "Processing Weather Data for Record 146 for the city Mar del Plata\n",
      "Processing Weather Data for Record 147 for the city Khatanga\n",
      "Processing Weather Data for Record 148 for the city Avarua\n",
      "Processing Weather Data for Record 149 for the city Cidreira\n",
      "Processing Weather Data for Record 150 for the city Guadalupe y Calvo\n",
      "Processing Weather Data for Record 151 for the city Santa Teresa\n",
      "City not found....Skipping............\n",
      "Processing Weather Data for Record 152 for the city Massakory\n",
      "Processing Weather Data for Record 153 for the city Sakaiminato\n",
      "Processing Weather Data for Record 154 for the city Narsaq\n",
      "Processing Weather Data for Record 155 for the city Newport\n",
      "Processing Weather Data for Record 156 for the city Coahuayana Viejo\n",
      "City not found....Skipping............\n",
      "Processing Weather Data for Record 157 for the city Dikson\n",
      "Processing Weather Data for Record 158 for the city Pisco\n",
      "Processing Weather Data for Record 159 for the city Colombia\n",
      "Processing Weather Data for Record 160 for the city Upernavik\n",
      "Processing Weather Data for Record 161 for the city Weinan\n",
      "Processing Weather Data for Record 162 for the city Barcelos\n",
      "Processing Weather Data for Record 163 for the city Bolshaya Glushitsa\n",
      "Processing Weather Data for Record 164 for the city Barentu\n",
      "Processing Weather Data for Record 165 for the city Rivadavia\n",
      "Processing Weather Data for Record 166 for the city Fort Collins\n",
      "Processing Weather Data for Record 167 for the city Tutóia\n",
      "Processing Weather Data for Record 168 for the city Charlestown\n",
      "Processing Weather Data for Record 169 for the city Black River\n",
      "Processing Weather Data for Record 170 for the city Bandundu Province\n",
      "Processing Weather Data for Record 171 for the city Korla\n",
      "Processing Weather Data for Record 172 for the city Usinsk\n",
      "Processing Weather Data for Record 173 for the city Flinders\n",
      "Processing Weather Data for Record 174 for the city Mariestad\n",
      "Processing Weather Data for Record 175 for the city Beyneu\n",
      "City not found....Skipping............\n",
      "Processing Weather Data for Record 176 for the city Trelew\n",
      "Processing Weather Data for Record 177 for the city Grindavik\n",
      "Processing Weather Data for Record 178 for the city Port Hueneme\n",
      "Processing Weather Data for Record 179 for the city Carnarvon\n",
      "Processing Weather Data for Record 180 for the city Hervey Bay\n",
      "Processing Weather Data for Record 181 for the city Hīt\n",
      "Processing Weather Data for Record 182 for the city Choix\n",
      "Processing Weather Data for Record 183 for the city Arlit\n",
      "Processing Weather Data for Record 184 for the city Christchurch\n",
      "Processing Weather Data for Record 185 for the city Yaring\n",
      "Processing Weather Data for Record 186 for the city Ishigaki\n",
      "City not found....Skipping............\n",
      "Processing Weather Data for Record 187 for the city Sørland\n",
      "Processing Weather Data for Record 188 for the city Serebryansk\n",
      "Processing Weather Data for Record 189 for the city Touros\n",
      "Processing Weather Data for Record 190 for the city Maţāy\n",
      "Processing Weather Data for Record 191 for the city Ponta do Sol\n",
      "Processing Weather Data for Record 192 for the city Inuvik\n",
      "Processing Weather Data for Record 193 for the city Dombås\n",
      "Processing Weather Data for Record 194 for the city Rūdbār\n",
      "Processing Weather Data for Record 195 for the city Poli\n",
      "Processing Weather Data for Record 196 for the city Kieta\n",
      "Processing Weather Data for Record 197 for the city Iqaluit\n",
      "Processing Weather Data for Record 198 for the city Bathsheba\n",
      "Processing Weather Data for Record 199 for the city Kangaatsiaq\n",
      "City not found....Skipping............\n",
      "Processing Weather Data for Record 200 for the city Malaba\n",
      "Processing Weather Data for Record 201 for the city Kruisfontein\n",
      "Processing Weather Data for Record 202 for the city Mwinilunga\n",
      "Processing Weather Data for Record 203 for the city Goiatuba\n",
      "Processing Weather Data for Record 204 for the city Sitka\n",
      "City not found....Skipping............\n",
      "Processing Weather Data for Record 205 for the city Nuuk\n",
      "Processing Weather Data for Record 206 for the city Pangai\n",
      "Processing Weather Data for Record 207 for the city Oranjemund\n",
      "City not found....Skipping............\n",
      "City not found....Skipping............\n",
      "City not found....Skipping............\n",
      "Processing Weather Data for Record 208 for the city Camocim\n",
      "Processing Weather Data for Record 209 for the city Nanortalik\n",
      "City not found....Skipping............\n",
      "Processing Weather Data for Record 210 for the city Bam\n",
      "Processing Weather Data for Record 211 for the city Nome\n",
      "Processing Weather Data for Record 212 for the city Castro\n",
      "Processing Weather Data for Record 213 for the city Marabu\n",
      "City not found....Skipping............\n",
      "Processing Weather Data for Record 214 for the city Jumla\n",
      "City not found....Skipping............\n",
      "Processing Weather Data for Record 215 for the city Kichmengskiy Gorodok\n",
      "Processing Weather Data for Record 216 for the city Talcahuano\n",
      "Processing Weather Data for Record 217 for the city Vanavara\n",
      "Processing Weather Data for Record 218 for the city Kavieng\n",
      "City not found....Skipping............\n",
      "Processing Weather Data for Record 219 for the city Victoria\n",
      "City not found....Skipping............\n",
      "Processing Weather Data for Record 220 for the city Aykhal\n",
      "Processing Weather Data for Record 221 for the city Ključ\n",
      "Processing Weather Data for Record 222 for the city Beloha\n",
      "Processing Weather Data for Record 223 for the city Sobolevo\n",
      "Processing Weather Data for Record 224 for the city Nantucket\n",
      "Processing Weather Data for Record 225 for the city Puerto Ayora\n",
      "Processing Weather Data for Record 226 for the city Kahului\n",
      "City not found....Skipping............\n",
      "Processing Weather Data for Record 227 for the city Makakilo City\n",
      "Processing Weather Data for Record 228 for the city Saint George\n",
      "Processing Weather Data for Record 229 for the city Hambantota\n",
      "Processing Weather Data for Record 230 for the city Aqsū\n",
      "Processing Weather Data for Record 231 for the city Upata\n",
      "Processing Weather Data for Record 232 for the city Acapulco de Juárez\n",
      "Processing Weather Data for Record 233 for the city Rediu\n",
      "Processing Weather Data for Record 234 for the city Lerwick\n",
      "Processing Weather Data for Record 235 for the city São Gabriel da Cachoeira\n",
      "Processing Weather Data for Record 236 for the city Galveston\n",
      "City not found....Skipping............\n",
      "Processing Weather Data for Record 237 for the city Isangel\n",
      "Processing Weather Data for Record 238 for the city Port Hedland\n",
      "Processing Weather Data for Record 239 for the city Buta\n",
      "Processing Weather Data for Record 240 for the city Vega de Alatorre\n",
      "Processing Weather Data for Record 241 for the city Vao\n",
      "Processing Weather Data for Record 242 for the city Ust-Nera\n",
      "Processing Weather Data for Record 243 for the city Idlib\n",
      "Processing Weather Data for Record 244 for the city Ternate\n",
      "Processing Weather Data for Record 245 for the city Paoua\n",
      "Processing Weather Data for Record 246 for the city Kurumkan\n",
      "Processing Weather Data for Record 247 for the city Altamont\n",
      "Processing Weather Data for Record 248 for the city Sabzawār\n",
      "Processing Weather Data for Record 249 for the city Chui\n",
      "Processing Weather Data for Record 250 for the city Dul'durga\n",
      "Processing Weather Data for Record 251 for the city Kidal\n",
      "Processing Weather Data for Record 252 for the city Marsh Harbour\n"
     ]
    },
    {
     "name": "stdout",
     "output_type": "stream",
     "text": [
      "Processing Weather Data for Record 253 for the city Freeport\n",
      "Processing Weather Data for Record 254 for the city Labuhan\n",
      "Processing Weather Data for Record 255 for the city Sinnamary\n",
      "Processing Weather Data for Record 256 for the city Esperance\n",
      "Processing Weather Data for Record 257 for the city Bethel\n",
      "Processing Weather Data for Record 258 for the city Sand Springs\n",
      "Processing Weather Data for Record 259 for the city Dargaville\n",
      "Processing Weather Data for Record 260 for the city Kaitangata\n",
      "Processing Weather Data for Record 261 for the city High Level\n",
      "Processing Weather Data for Record 262 for the city Kutum\n",
      "City not found....Skipping............\n",
      "Processing Weather Data for Record 263 for the city Xining\n",
      "Processing Weather Data for Record 264 for the city Faranah\n",
      "Processing Weather Data for Record 265 for the city Noumea\n",
      "Processing Weather Data for Record 266 for the city Paciran\n",
      "Processing Weather Data for Record 267 for the city Port-Gentil\n",
      "Processing Weather Data for Record 268 for the city Kachug\n",
      "Processing Weather Data for Record 269 for the city Iquique\n",
      "City not found....Skipping............\n",
      "Processing Weather Data for Record 270 for the city Venustiano Carranza\n",
      "Processing Weather Data for Record 271 for the city Balabac\n",
      "Processing Weather Data for Record 272 for the city Sibolga\n",
      "Processing Weather Data for Record 273 for the city Taywarah\n",
      "Processing Weather Data for Record 274 for the city Buraidah\n",
      "Processing Weather Data for Record 275 for the city Chapais\n",
      "Processing Weather Data for Record 276 for the city Henties Bay\n",
      "Processing Weather Data for Record 277 for the city Zaozyornoye\n",
      "Processing Weather Data for Record 278 for the city Luanda\n",
      "Processing Weather Data for Record 279 for the city Esik\n",
      "Processing Weather Data for Record 280 for the city Tynda\n",
      "Processing Weather Data for Record 281 for the city Liwale\n",
      "Processing Weather Data for Record 282 for the city Taoudenni\n",
      "Processing Weather Data for Record 283 for the city Cabo San Lucas\n",
      "Processing Weather Data for Record 284 for the city Palmer\n",
      "City not found....Skipping............\n",
      "Processing Weather Data for Record 285 for the city Saint-Joseph\n",
      "Processing Weather Data for Record 286 for the city Leshukonskoye\n",
      "Processing Weather Data for Record 287 for the city Kribi\n",
      "Processing Weather Data for Record 288 for the city Rocha\n",
      "Processing Weather Data for Record 289 for the city Vanimo\n",
      "Processing Weather Data for Record 290 for the city Makkah al Mukarramah\n",
      "Processing Weather Data for Record 291 for the city Nokaneng\n",
      "Processing Weather Data for Record 292 for the city Klaksvík\n",
      "Processing Weather Data for Record 293 for the city Boyolangu\n",
      "Processing Weather Data for Record 294 for the city Merowe\n",
      "Processing Weather Data for Record 295 for the city Petropavlovsk-Kamchatskiy\n",
      "Processing Weather Data for Record 296 for the city Tondon\n",
      "Processing Weather Data for Record 297 for the city Verāval\n",
      "Processing Weather Data for Record 298 for the city Sosnovo-Ozerskoye\n",
      "City not found....Skipping............\n",
      "Processing Weather Data for Record 299 for the city Verkhnyaya Inta\n",
      "Processing Weather Data for Record 300 for the city Port Hardy\n",
      "Processing Weather Data for Record 301 for the city Mocuba\n",
      "City not found....Skipping............\n",
      "Processing Weather Data for Record 302 for the city San Cristobal\n",
      "Processing Weather Data for Record 303 for the city Naze\n",
      "Processing Weather Data for Record 304 for the city Jászszentlászló\n",
      "Processing Weather Data for Record 305 for the city El Águila\n",
      "Processing Weather Data for Record 306 for the city Ust'-Omchug\n",
      "Processing Weather Data for Record 307 for the city Rawson\n",
      "Processing Weather Data for Record 308 for the city Santa Comba\n",
      "Processing Weather Data for Record 309 for the city Los Llanos de Aridane\n",
      "Processing Weather Data for Record 310 for the city Pimentel\n",
      "Processing Weather Data for Record 311 for the city Bosaso\n",
      "Processing Weather Data for Record 312 for the city Paysandu\n",
      "Processing Weather Data for Record 313 for the city Jackson\n",
      "Processing Weather Data for Record 314 for the city Beira\n",
      "Processing Weather Data for Record 315 for the city Ialibu\n",
      "Processing Weather Data for Record 316 for the city Tupik\n",
      "Processing Weather Data for Record 317 for the city Manzanillo\n",
      "City not found....Skipping............\n",
      "Processing Weather Data for Record 318 for the city Bandarbeyla\n",
      "Processing Weather Data for Record 319 for the city Vila Franca do Campo\n",
      "City not found....Skipping............\n",
      "Processing Weather Data for Record 320 for the city Gambēla\n",
      "Processing Weather Data for Record 321 for the city Marana\n",
      "Processing Weather Data for Record 322 for the city Lagoa\n",
      "Processing Weather Data for Record 323 for the city Pauini\n",
      "Processing Weather Data for Record 324 for the city Amudat\n",
      "Processing Weather Data for Record 325 for the city Iskateley\n",
      "Processing Weather Data for Record 326 for the city Oranjestad\n",
      "Processing Weather Data for Record 327 for the city Kungurtug\n",
      "Processing Weather Data for Record 328 for the city Tual\n",
      "Processing Weather Data for Record 329 for the city Ola\n",
      "Processing Weather Data for Record 330 for the city Sovetskiy\n",
      "Processing Weather Data for Record 331 for the city Cristalina\n",
      "Processing Weather Data for Record 332 for the city Şendreni\n",
      "City not found....Skipping............\n",
      "Processing Weather Data for Record 333 for the city Padang\n",
      "Processing Weather Data for Record 334 for the city Geraldton\n",
      "Processing Weather Data for Record 335 for the city Sept-Îles\n",
      "Processing Weather Data for Record 336 for the city Karangampel\n",
      "Processing Weather Data for Record 337 for the city Katobu\n",
      "Processing Weather Data for Record 338 for the city Puerto Palomas\n",
      "Processing Weather Data for Record 339 for the city Wanlaweyn\n",
      "Processing Weather Data for Record 340 for the city Effium\n",
      "Processing Weather Data for Record 341 for the city Mehamn\n",
      "Processing Weather Data for Record 342 for the city Quatre Cocos\n",
      "Processing Weather Data for Record 343 for the city Honiara\n",
      "Processing Weather Data for Record 344 for the city Yegorlykskaya\n",
      "Processing Weather Data for Record 345 for the city Champerico\n",
      "Processing Weather Data for Record 346 for the city Mogadishu\n",
      "Processing Weather Data for Record 347 for the city Saint-Pierre\n",
      "Processing Weather Data for Record 348 for the city Maniitsoq\n",
      "Processing Weather Data for Record 349 for the city Filingué\n",
      "Processing Weather Data for Record 350 for the city Antofagasta\n",
      "Processing Weather Data for Record 351 for the city Lökbatan\n",
      "Processing Weather Data for Record 352 for the city Bolkhov\n",
      "City not found....Skipping............\n",
      "Processing Weather Data for Record 353 for the city Nabire\n",
      "Processing Weather Data for Record 354 for the city Al Bardīyah\n",
      "Processing Weather Data for Record 355 for the city Soller\n",
      "Processing Weather Data for Record 356 for the city Huarmey\n",
      "Processing Weather Data for Record 357 for the city Along\n",
      "Processing Weather Data for Record 358 for the city Baghdad\n",
      "Processing Weather Data for Record 359 for the city Ancud\n",
      "Processing Weather Data for Record 360 for the city Evensk\n",
      "Processing Weather Data for Record 361 for the city Tabas\n",
      "Processing Weather Data for Record 362 for the city Iztapa\n",
      "Processing Weather Data for Record 363 for the city Lorengau\n",
      "City not found....Skipping............\n",
      "Processing Weather Data for Record 364 for the city Tjøme\n",
      "Processing Weather Data for Record 365 for the city Kuusamo\n",
      "City not found....Skipping............\n",
      "Processing Weather Data for Record 366 for the city Östersund\n",
      "Processing Weather Data for Record 367 for the city Berndorf\n",
      "Processing Weather Data for Record 368 for the city Ilebo\n",
      "Processing Weather Data for Record 369 for the city Tashtyp\n",
      "City not found....Skipping............\n",
      "Processing Weather Data for Record 370 for the city Wiarton\n",
      "Processing Weather Data for Record 371 for the city Panzhihua\n",
      "Processing Weather Data for Record 372 for the city Mana\n",
      "Processing Weather Data for Record 373 for the city San Roque\n",
      "Processing Weather Data for Record 374 for the city Rudkøbing\n",
      "Processing Weather Data for Record 375 for the city Santa Isabel Rio Negro\n",
      "Processing Weather Data for Record 376 for the city Mahanje\n",
      "Processing Weather Data for Record 377 for the city Havelock\n",
      "City not found....Skipping............\n"
     ]
    },
    {
     "name": "stdout",
     "output_type": "stream",
     "text": [
      "Processing Weather Data for Record 378 for the city Kadaya\n",
      "Processing Weather Data for Record 379 for the city General Roca\n",
      "Processing Weather Data for Record 380 for the city Iquitos\n",
      "Processing Weather Data for Record 381 for the city Mandalgovi\n",
      "Processing Weather Data for Record 382 for the city Vila Velha\n",
      "Processing Weather Data for Record 383 for the city Skellefteå\n",
      "City not found....Skipping............\n",
      "Processing Weather Data for Record 384 for the city Paidha\n",
      "City not found....Skipping............\n",
      "City not found....Skipping............\n",
      "Processing Weather Data for Record 385 for the city Somerville\n",
      "Processing Weather Data for Record 386 for the city Lira\n",
      "Processing Weather Data for Record 387 for the city Gushikawa\n",
      "Processing Weather Data for Record 388 for the city Anadyr\n",
      "Processing Weather Data for Record 389 for the city Srednekolymsk\n",
      "City not found....Skipping............\n",
      "Processing Weather Data for Record 390 for the city Kununurra\n",
      "Processing Weather Data for Record 391 for the city Shangrao\n",
      "Processing Weather Data for Record 392 for the city Shar\n",
      "Processing Weather Data for Record 393 for the city Ingham\n",
      "Processing Weather Data for Record 394 for the city Yelkhovka\n",
      "City not found....Skipping............\n",
      "Processing Weather Data for Record 395 for the city Yukamenskoye\n",
      "Processing Weather Data for Record 396 for the city São João da Barra\n",
      "Processing Weather Data for Record 397 for the city Vardø\n",
      "Processing Weather Data for Record 398 for the city Egvekinot\n",
      "Processing Weather Data for Record 399 for the city Ambon City\n",
      "Processing Weather Data for Record 400 for the city Lahaina\n",
      "Processing Weather Data for Record 401 for the city Yong’an\n",
      "Processing Weather Data for Record 402 for the city Biloela\n",
      "Processing Weather Data for Record 403 for the city Necochea\n",
      "Processing Weather Data for Record 404 for the city Fatezh\n",
      "Processing Weather Data for Record 405 for the city Mason City\n",
      "City not found....Skipping............\n",
      "Processing Weather Data for Record 406 for the city Lavrentiya\n",
      "City not found....Skipping............\n",
      "Processing Weather Data for Record 407 for the city Masagua\n",
      "Processing Weather Data for Record 408 for the city Sri Aman\n",
      "Processing Weather Data for Record 409 for the city Gīdam\n",
      "Processing Weather Data for Record 410 for the city Brønnøysund\n",
      "Processing Weather Data for Record 411 for the city Cobán\n",
      "Processing Weather Data for Record 412 for the city Katsuura\n",
      "City not found....Skipping............\n",
      "Processing Weather Data for Record 413 for the city Lamu\n",
      "Processing Weather Data for Record 414 for the city Pindorama\n",
      "Processing Weather Data for Record 415 for the city Berlevåg\n",
      "Processing Weather Data for Record 416 for the city Exeter\n",
      "Processing Weather Data for Record 417 for the city Savonlinna\n",
      "Processing Weather Data for Record 418 for the city Cambuí\n",
      "City not found....Skipping............\n",
      "Processing Weather Data for Record 419 for the city Nova Iguaçu\n",
      "Processing Weather Data for Record 420 for the city Aswān\n",
      "Processing Weather Data for Record 421 for the city Bundaberg\n",
      "Processing Weather Data for Record 422 for the city Falam\n",
      "Processing Weather Data for Record 423 for the city Chinsali\n",
      "Processing Weather Data for Record 424 for the city Oktyabr'skiy\n",
      "Processing Weather Data for Record 425 for the city Mörön\n",
      "Processing Weather Data for Record 426 for the city Mezen'\n",
      "Processing Weather Data for Record 427 for the city Tuatapere\n",
      "City not found....Skipping............\n",
      "Processing Weather Data for Record 428 for the city Chokurdakh\n",
      "City not found....Skipping............\n",
      "Processing Weather Data for Record 429 for the city Pueblo\n",
      "Processing Weather Data for Record 430 for the city Lompoc\n",
      "Processing Weather Data for Record 431 for the city Norrköping\n",
      "Processing Weather Data for Record 432 for the city Port Blair\n",
      "City not found....Skipping............\n",
      "Processing Weather Data for Record 433 for the city Mokhsogollokh\n",
      "Processing Weather Data for Record 434 for the city Barranca\n",
      "Processing Weather Data for Record 435 for the city Manitowoc\n",
      "Processing Weather Data for Record 436 for the city Moncton\n",
      "Processing Weather Data for Record 437 for the city Willowmore\n",
      "City not found....Skipping............\n",
      "Processing Weather Data for Record 438 for the city Port Stanley\n",
      "Processing Weather Data for Record 439 for the city Río Gallegos\n",
      "Processing Weather Data for Record 440 for the city Hualmay\n",
      "Processing Weather Data for Record 441 for the city The Valley\n",
      "Processing Weather Data for Record 442 for the city Port Augusta\n",
      "Processing Weather Data for Record 443 for the city Port Moresby\n",
      "Processing Weather Data for Record 444 for the city Guerrero Negro\n",
      "Processing Weather Data for Record 445 for the city Taltal\n",
      "City not found....Skipping............\n",
      "Processing Weather Data for Record 446 for the city Mulbāgal\n",
      "Processing Weather Data for Record 447 for the city Kalianget\n",
      "Processing Weather Data for Record 448 for the city Nelson\n",
      "Processing Weather Data for Record 449 for the city Yermakovskoye\n",
      "Processing Weather Data for Record 450 for the city Andros Town\n",
      "City not found....Skipping............\n",
      "Processing Weather Data for Record 451 for the city Sisimiut\n",
      "Processing Weather Data for Record 452 for the city Kanniyākumāri\n",
      "Processing Weather Data for Record 453 for the city Ostrov\n",
      "Processing Weather Data for Record 454 for the city Bucerías\n",
      "Processing Weather Data for Record 455 for the city Inongo\n",
      "Processing Weather Data for Record 456 for the city Pemba\n",
      "Processing Weather Data for Record 457 for the city Człuchów\n",
      "Processing Weather Data for Record 458 for the city Sale\n",
      "Processing Weather Data for Record 459 for the city Waingapu\n",
      "Processing Weather Data for Record 460 for the city Gualaco\n",
      "Processing Weather Data for Record 461 for the city Coleraine\n",
      "Processing Weather Data for Record 462 for the city Banda Aceh\n",
      "Processing Weather Data for Record 463 for the city Xiaoyi\n",
      "Processing Weather Data for Record 464 for the city Lubango\n",
      "Processing Weather Data for Record 465 for the city Kurchum\n",
      "Processing Weather Data for Record 466 for the city Kismayo\n",
      "Processing Weather Data for Record 467 for the city Verkhniye Kigi\n",
      "Processing Weather Data for Record 468 for the city Parrita\n",
      "Processing Weather Data for Record 469 for the city Vrangel'\n",
      "City not found....Skipping............\n",
      "Processing Weather Data for Record 470 for the city Tonantins\n",
      "Processing Weather Data for Record 471 for the city Yuncheng\n",
      "Processing Weather Data for Record 472 for the city Raudeberg\n",
      "Processing Weather Data for Record 473 for the city Lucieni\n",
      "Processing Weather Data for Record 474 for the city Kloulklubed\n",
      "City not found....Skipping............\n",
      "Processing Weather Data for Record 475 for the city Riverton\n",
      "Processing Weather Data for Record 476 for the city Swellendam\n",
      "Processing Weather Data for Record 477 for the city Kavaratti\n",
      "Processing Weather Data for Record 478 for the city Narasannapeta\n",
      "Processing Weather Data for Record 479 for the city Moindou\n",
      "Processing Weather Data for Record 480 for the city Lewistown\n",
      "City not found....Skipping............\n",
      "Processing Weather Data for Record 481 for the city Yumen\n",
      "Processing Weather Data for Record 482 for the city Manyoni\n",
      "Processing Weather Data for Record 483 for the city Baldone\n",
      "Processing Weather Data for Record 484 for the city Cabedelo\n",
      "Processing Weather Data for Record 485 for the city Severo-Yeniseyskiy\n",
      "Processing Weather Data for Record 486 for the city Maniwaki\n",
      "Processing Weather Data for Record 487 for the city Mossamedes\n",
      "Processing Weather Data for Record 488 for the city Wynyard\n",
      "Processing Weather Data for Record 489 for the city Fare\n",
      "Processing Weather Data for Record 490 for the city Srandakan\n",
      "Processing Weather Data for Record 491 for the city Port Lincoln\n",
      "Processing Weather Data for Record 492 for the city Cabadiangan\n",
      "Processing Weather Data for Record 493 for the city Teya\n",
      "City not found....Skipping............\n",
      "Processing Weather Data for Record 494 for the city Roald\n",
      "Processing Weather Data for Record 495 for the city Tessalit\n",
      "Processing Weather Data for Record 496 for the city Gizo Government Station\n",
      "Processing Weather Data for Record 497 for the city Alugan\n",
      "Processing Weather Data for Record 498 for the city Ixtapa\n",
      "Processing Weather Data for Record 499 for the city Saint Paul Harbor\n"
     ]
    },
    {
     "name": "stdout",
     "output_type": "stream",
     "text": [
      "Processing Weather Data for Record 500 for the city Neuquén\n",
      "Processing Weather Data for Record 501 for the city Husavik\n",
      "Processing Weather Data for Record 502 for the city Marystown\n",
      "Processing Weather Data for Record 503 for the city Nhulunbuy\n",
      "Processing Weather Data for Record 504 for the city Esna\n",
      "Processing Weather Data for Record 505 for the city Linxia Chengguanzhen\n",
      "Processing Weather Data for Record 506 for the city Svetlogorsk\n",
      "City not found....Skipping............\n",
      "Processing Weather Data for Record 507 for the city Dakar\n",
      "City not found....Skipping............\n",
      "Processing Weather Data for Record 508 for the city Mumford\n",
      "Processing Weather Data for Record 509 for the city Zhangye\n",
      "Processing Weather Data for Record 510 for the city Popondetta\n",
      "Processing Weather Data for Record 511 for the city Mae Ramat\n",
      "Processing Weather Data for Record 512 for the city Hyderabad\n",
      "Processing Weather Data for Record 513 for the city Mafinga\n",
      "City not found....Skipping............\n",
      "City not found....Skipping............\n",
      "Processing Weather Data for Record 514 for the city Tartagal\n",
      "Processing Weather Data for Record 515 for the city Bowen\n",
      "Processing Weather Data for Record 516 for the city Muscat\n",
      "Processing Weather Data for Record 517 for the city Pascagoula\n",
      "Processing Weather Data for Record 518 for the city Alagoinhas\n",
      "Processing Weather Data for Record 519 for the city Māndal\n",
      "Processing Weather Data for Record 520 for the city Quime\n",
      "Processing Weather Data for Record 521 for the city Antalaha\n",
      "Processing Weather Data for Record 522 for the city Kumluca\n",
      "Processing Weather Data for Record 523 for the city Celestún\n",
      "Processing Weather Data for Record 524 for the city Tabuk\n",
      "Processing Weather Data for Record 525 for the city Muros\n",
      "Processing Weather Data for Record 526 for the city Salina\n",
      "Processing Weather Data for Record 527 for the city Puerto Rico\n",
      "Processing Weather Data for Record 528 for the city Tchaourou\n",
      "Processing Weather Data for Record 529 for the city Eucaliptus\n",
      "Processing Weather Data for Record 530 for the city Point Fortin\n",
      "Processing Weather Data for Record 531 for the city Morondava\n",
      "Processing Weather Data for Record 532 for the city Shingū\n",
      "---------------------------------------\n",
      "Processing Complete\n"
     ]
    }
   ],
   "source": [
    "print(\"Begin API Call to OpenWeather Database \")\n",
    "print(\"---------------------------------------\")\n",
    "\n",
    "for index, row in weather_data.iterrows(): \n",
    "    #Create the query url for the API call\n",
    "    query_url = url + row['City'] + ',' + row['Country'] + '&APPID=' + api_key\n",
    "    \n",
    "\n",
    "\n",
    "#API call\n",
    "    response = requests.get(query_url).json()\n",
    "\n",
    "        #Exception script in case the city is not found by the API call\n",
    "    try: \n",
    "            #Message to alert the user that the data is being retrieved\n",
    "        print(f'Processing Weather Data for Record {count_num} for the city {response[\"name\"]}')\n",
    "\n",
    "            #Input data into the dataframe\n",
    "        weather_data.loc[index, 'Cloudiness'] = response['clouds']['all']\n",
    "            #city_weather.loc[index, 'Date'] = response['dt']\n",
    "        weather_data.loc[index, 'Humidity'] = response['main']['humidity']\n",
    "        weather_data.loc[index, 'Latitude'] = response['coord']['lat']\n",
    "        weather_data.loc[index, 'Longitude'] = response['coord']['lon']\n",
    "        weather_data.loc[index, 'Max Temp'] = response['main']['temp_max']\n",
    "        weather_data.loc[index, 'Windspeed'] = response['wind']['speed']\n",
    "\n",
    "            #Increase the record count\n",
    "        count_num += 1\n",
    "\n",
    "    except (KeyError, IndexError):\n",
    "            print(\"City not found....Skipping............\")\n",
    "\n",
    "        #If statement to handle the API call limits\n",
    "   # if count_num == 51:\n",
    "   #     count_set += 1\n",
    "   #     count_num = 1\n",
    "        \n",
    "\n",
    "print(\"---------------------------------------\")\n",
    "print(\"Processing Complete\")\n",
    "  "
   ]
  },
  {
   "cell_type": "markdown",
   "metadata": {},
   "source": [
    "##### Clean dataframe to remove cities that were not found"
   ]
  },
  {
   "cell_type": "code",
   "execution_count": 12,
   "metadata": {},
   "outputs": [],
   "source": [
    "weather_data['Max Temp'] = weather_data['Max Temp'].replace('', np.nan)\n",
    "weather_data = weather_data.dropna()"
   ]
  },
  {
   "cell_type": "markdown",
   "metadata": {},
   "source": [
    "##### Save the dataframe"
   ]
  },
  {
   "cell_type": "code",
   "execution_count": 13,
   "metadata": {},
   "outputs": [],
   "source": [
    "weather_data.to_csv(\"Output/CityWeatherData.csv\", index=False, header=True)"
   ]
  },
  {
   "cell_type": "markdown",
   "metadata": {},
   "source": [
    "##### Preview the dataframe"
   ]
  },
  {
   "cell_type": "code",
   "execution_count": 14,
   "metadata": {},
   "outputs": [
    {
     "data": {
      "text/html": [
       "<div>\n",
       "<style scoped>\n",
       "    .dataframe tbody tr th:only-of-type {\n",
       "        vertical-align: middle;\n",
       "    }\n",
       "\n",
       "    .dataframe tbody tr th {\n",
       "        vertical-align: top;\n",
       "    }\n",
       "\n",
       "    .dataframe thead th {\n",
       "        text-align: right;\n",
       "    }\n",
       "</style>\n",
       "<table border=\"1\" class=\"dataframe\">\n",
       "  <thead>\n",
       "    <tr style=\"text-align: right;\">\n",
       "      <th></th>\n",
       "      <th>City</th>\n",
       "      <th>Country</th>\n",
       "      <th>Cloudiness</th>\n",
       "      <th>Humidity</th>\n",
       "      <th>Latitude</th>\n",
       "      <th>Longitude</th>\n",
       "      <th>Max Temp</th>\n",
       "      <th>Windspeed</th>\n",
       "    </tr>\n",
       "  </thead>\n",
       "  <tbody>\n",
       "    <tr>\n",
       "      <th>1</th>\n",
       "      <td>matagami</td>\n",
       "      <td>CA</td>\n",
       "      <td>1</td>\n",
       "      <td>71</td>\n",
       "      <td>49.75</td>\n",
       "      <td>-77.63</td>\n",
       "      <td>50.00</td>\n",
       "      <td>11.41</td>\n",
       "    </tr>\n",
       "    <tr>\n",
       "      <th>2</th>\n",
       "      <td>alice springs</td>\n",
       "      <td>AU</td>\n",
       "      <td>90</td>\n",
       "      <td>27</td>\n",
       "      <td>-23.7</td>\n",
       "      <td>133.88</td>\n",
       "      <td>73.40</td>\n",
       "      <td>6.93</td>\n",
       "    </tr>\n",
       "    <tr>\n",
       "      <th>3</th>\n",
       "      <td>caravelas</td>\n",
       "      <td>BR</td>\n",
       "      <td>29</td>\n",
       "      <td>62</td>\n",
       "      <td>-17.71</td>\n",
       "      <td>-39.25</td>\n",
       "      <td>81.59</td>\n",
       "      <td>10.18</td>\n",
       "    </tr>\n",
       "    <tr>\n",
       "      <th>4</th>\n",
       "      <td>east london</td>\n",
       "      <td>ZA</td>\n",
       "      <td>20</td>\n",
       "      <td>72</td>\n",
       "      <td>-33.02</td>\n",
       "      <td>27.91</td>\n",
       "      <td>59.00</td>\n",
       "      <td>9.17</td>\n",
       "    </tr>\n",
       "    <tr>\n",
       "      <th>5</th>\n",
       "      <td>bambous virieux</td>\n",
       "      <td>MU</td>\n",
       "      <td>75</td>\n",
       "      <td>77</td>\n",
       "      <td>-20.34</td>\n",
       "      <td>57.76</td>\n",
       "      <td>66.99</td>\n",
       "      <td>12.75</td>\n",
       "    </tr>\n",
       "  </tbody>\n",
       "</table>\n",
       "</div>"
      ],
      "text/plain": [
       "              City Country Cloudiness Humidity Latitude Longitude  Max Temp  \\\n",
       "1         matagami      CA          1       71    49.75    -77.63     50.00   \n",
       "2    alice springs      AU         90       27    -23.7    133.88     73.40   \n",
       "3        caravelas      BR         29       62   -17.71    -39.25     81.59   \n",
       "4      east london      ZA         20       72   -33.02     27.91     59.00   \n",
       "5  bambous virieux      MU         75       77   -20.34     57.76     66.99   \n",
       "\n",
       "  Windspeed  \n",
       "1     11.41  \n",
       "2      6.93  \n",
       "3     10.18  \n",
       "4      9.17  \n",
       "5     12.75  "
      ]
     },
     "execution_count": 14,
     "metadata": {},
     "output_type": "execute_result"
    }
   ],
   "source": [
    "weather_data.head()"
   ]
  },
  {
   "cell_type": "markdown",
   "metadata": {},
   "source": [
    "### Plotting scatter plots\n",
    "##### Max Temp vs Latitude"
   ]
  },
  {
   "cell_type": "code",
   "execution_count": 35,
   "metadata": {},
   "outputs": [
    {
     "data": {
      "image/png": "[encoded data removed]",
      "text/plain": [
       "<Figure size 432x288 with 1 Axes>"
      ]
     },
     "metadata": {
      "needs_background": "light"
     },
     "output_type": "display_data"
    }
   ],
   "source": [
    "plt.scatter(weather_data[\"Latitude\"], weather_data[\"Max Temp\"], facecolors=\"blue\", edgecolors=\"black\", marker=\"o\")\n",
    "\n",
    "# Add chart labels\n",
    "plt.title(\"City Latitude vs Max Temperature\")\n",
    "plt.axvline(0, color = 'black', alpha = .25, label = 'Equator')\n",
    "plt.text(1,25,'Equator',rotation=90)\n",
    "plt.ylabel(\"Temperature (F) \")\n",
    "plt.xlabel(\"Latitude\")\n",
    "plt.grid(True)\n",
    "plt.xlim(-90,90)\n",
    "\n",
    "plt.savefig(\"Output/City Latitude vs. Max Temperature.png\")\n",
    "\n",
    "# Show plot\n",
    "plt.show()"
   ]
  },
  {
   "cell_type": "markdown",
   "metadata": {},
   "source": [
    "#### Analysis of Latitude vs Temperature\n",
    "Temperature seems to have a clear co - relation with the equator. Closer to the equator, you can see that the temperature has become significantly warmer. The southern hemisphere seems to be much warmer than the northern hemisphere during this time. "
   ]
  },
  {
   "cell_type": "markdown",
   "metadata": {},
   "source": [
    "##### Humidity Vs Latitude"
   ]
  },
  {
   "cell_type": "code",
   "execution_count": 34,
   "metadata": {},
   "outputs": [
    {
     "data": {
      "image/png": "[encoded data removed]",
      "text/plain": [
       "<Figure size 432x288 with 1 Axes>"
      ]
     },
     "metadata": {
      "needs_background": "light"
     },
     "output_type": "display_data"
    }
   ],
   "source": [
    "plt.scatter(weather_data[\"Latitude\"], weather_data[\"Humidity\"], facecolors=\"orange\", edgecolors=\"black\", marker=\"o\")\n",
    "\n",
    "# Add chart labels\n",
    "plt.title(\"City Latitude vs Humidity\")\n",
    "plt.axvline(0, color = 'black', alpha = .25, label = 'Equator')\n",
    "plt.text(1,25,'Equator',rotation=90)\n",
    "plt.ylabel(\"Humidity (%) \")\n",
    "plt.xlabel(\"Latitude\")\n",
    "plt.grid(True)\n",
    "plt.xlim(-90,90)\n",
    "\n",
    "plt.savefig(\"Output/City Latitude vs. Humidity.png\")\n",
    "\n",
    "# Show plot\n",
    "plt.show()"
   ]
  },
  {
   "cell_type": "markdown",
   "metadata": {},
   "source": [
    "#### Analysis of Latitude vs Humidity\n",
    "There seems to be rather high humidity(60% to 100%) between -40 and 80 deg latitude. \n"
   ]
  },
  {
   "cell_type": "markdown",
   "metadata": {},
   "source": [
    "##### Cloudiness Vs Latitude"
   ]
  },
  {
   "cell_type": "code",
   "execution_count": 33,
   "metadata": {},
   "outputs": [
    {
     "data": {
      "image/png": "[encoded data removed]",
      "text/plain": [
       "<Figure size 432x288 with 1 Axes>"
      ]
     },
     "metadata": {
      "needs_background": "light"
     },
     "output_type": "display_data"
    }
   ],
   "source": [
    "plt.scatter(weather_data[\"Latitude\"], weather_data[\"Cloudiness\"], facecolors=\"red\", edgecolors=\"black\", marker=\"o\")\n",
    "\n",
    "# Add chart labels\n",
    "plt.title(\"City Latitude vs Cloudiness\")\n",
    "plt.axvline(0, color = 'black', alpha = .30, label = 'Equator')\n",
    "plt.text(1,45,'Equator',rotation=90)\n",
    "plt.ylabel(\"Cloudiness (%) \")\n",
    "plt.xlabel(\"Latitude\")\n",
    "plt.grid(True)\n",
    "plt.xlim(-90,90)\n",
    "\n",
    "plt.savefig(\"Output/City Latitude vs. Cloudiness.png\")\n",
    "\n",
    "# Show plot\n",
    "plt.show()"
   ]
  },
  {
   "cell_type": "markdown",
   "metadata": {},
   "source": [
    "#### Analysis of Latitude vs Cloudiness\n",
    "There is no strong relationship between latitude and cloudiness. However, it is interesting to see that a strong band of cities near 0, 40, 80, and 100% cloudiness"
   ]
  },
  {
   "cell_type": "markdown",
   "metadata": {},
   "source": [
    "##### Windspeed Vs Latitude"
   ]
  },
  {
   "cell_type": "code",
   "execution_count": 29,
   "metadata": {},
   "outputs": [
    {
     "data": {
      "image/png": "[encoded data removed]",
      "text/plain": [
       "<Figure size 432x288 with 1 Axes>"
      ]
     },
     "metadata": {
      "needs_background": "light"
     },
     "output_type": "display_data"
    }
   ],
   "source": [
    "plt.scatter(weather_data[\"Latitude\"], weather_data[\"Windspeed\"], facecolors=\"Yellow\", edgecolors=\"black\", marker=\"o\")\n",
    "\n",
    "# Add chart labels\n",
    "plt.title(\"City Latitude vs Windspeed\")\n",
    "plt.axvline(0, color = 'black', alpha = .25, label = 'Equator')\n",
    "plt.text(1,25,'Equator',rotation=90)\n",
    "plt.ylabel(\"Windspeed (mph) \")\n",
    "plt.xlabel(\"Latitude\")\n",
    "plt.grid(True)\n",
    "plt.xlim(-90,90)\n",
    "\n",
    "plt.savefig(\"Output/City Latitude vs. Windspeed.png\")\n",
    "\n",
    "# Show plot\n",
    "plt.show()"
   ]
  },
  {
   "cell_type": "markdown",
   "metadata": {},
   "source": [
    "#### Analysis of Latitude vs Windspeed\n",
    "There is no strong relationship between latitude and wind speed. However, the cities with wind speeds over 15 mph increase when you move either direction away from the equator.\n",
    "Wind speed tends to generally be betweeen 0 and 15 mph regardless of latitude"
   ]
  },
  {
   "cell_type": "markdown",
   "metadata": {},
   "source": [
    "#### Create Northern and Southern Hemisphere DataFrames"
   ]
  },
  {
   "cell_type": "code",
   "execution_count": 39,
   "metadata": {},
   "outputs": [],
   "source": [
    "northern_df = weather_data.loc[pd.to_numeric(weather_data[\"Latitude\"]) > 0, :]\n",
    "southern_df = weather_data.loc[pd.to_numeric(weather_data[\"Latitude\"]) < 0, :]"
   ]
  },
  {
   "cell_type": "markdown",
   "metadata": {},
   "source": [
    "### Linear regression\n",
    "##### Northern Hemisphere: latitude Vs Max Temperature "
   ]
  },
  {
   "cell_type": "code",
   "execution_count": 44,
   "metadata": {},
   "outputs": [
    {
     "name": "stdout",
     "output_type": "stream",
     "text": [
      "Regression line equation is: y = -0.69x + 93.01\n",
      "The r-squared is: -0.8041028062627509\n"
     ]
    },
    {
     "data": {
      "image/png": "[encoded data removed]",
      "text/plain": [
       "<Figure size 432x288 with 1 Axes>"
      ]
     },
     "metadata": {
      "needs_background": "light"
     },
     "output_type": "display_data"
    }
   ],
   "source": [
    "x_values = pd.to_numeric(northern_df['Latitude'])\n",
    "y_values = pd.to_numeric(northern_df['Max Temp'])\n",
    "(slope, intercept, rvalue, pvalue, stderr) = linregress(x_values, y_values)\n",
    "regress_values = x_values * slope + intercept\n",
    "line_eq = \"y = \" + str(round(slope,2)) + \"x + \" + str(round(intercept,2))\n",
    "print(f\"Regression line equation is: {line_eq}\")\n",
    "plt.scatter(x_values,y_values)\n",
    "plt.plot(x_values,regress_values,\"r-\")\n",
    "plt.annotate(line_eq,(6,10),fontsize=15,color=\"red\")\n",
    "plt.xlabel('Latitude')\n",
    "plt.ylabel('Max Temperature (F)')\n",
    "plt.title('Northern Hemisphere - Max Temp vs. Latitude Linear Regression')\n",
    "print(f\"The r-squared is: {rvalue}\")\n",
    "plt.savefig(\"Output/Northern Hemisphere Latitude vs. Max Temp.png\")\n",
    "plt.show()"
   ]
  },
  {
   "cell_type": "markdown",
   "metadata": {},
   "source": [
    "##### Southern Hemisphere: Latitude Vs Max Temperature "
   ]
  },
  {
   "cell_type": "code",
   "execution_count": 46,
   "metadata": {},
   "outputs": [
    {
     "name": "stdout",
     "output_type": "stream",
     "text": [
      "Regression line equation is: y = 0.79x + 84.97\n",
      "The r-squared is: 0.80721595275594\n"
     ]
    },
    {
     "data": {
      "image/png": "[encoded data removed]",
      "text/plain": [
       "<Figure size 432x288 with 1 Axes>"
      ]
     },
     "metadata": {
      "needs_background": "light"
     },
     "output_type": "display_data"
    }
   ],
   "source": [
    "x_values = pd.to_numeric(southern_df['Latitude'])\n",
    "y_values = pd.to_numeric(southern_df['Max Temp'])\n",
    "(slope, intercept, rvalue, pvalue, stderr) = linregress(x_values, y_values)\n",
    "regress_values = x_values * slope + intercept\n",
    "line_eq = \"y = \" + str(round(slope,2)) + \"x + \" + str(round(intercept,2))\n",
    "print(f\"Regression line equation is: {line_eq}\")\n",
    "plt.scatter(x_values,y_values)\n",
    "plt.plot(x_values,regress_values,\"r-\")\n",
    "plt.annotate(line_eq,(6,10),fontsize=15,color=\"red\")\n",
    "plt.xlabel('Latitude')\n",
    "plt.ylabel('Max Temperature (F)')\n",
    "plt.title('Southern Hemisphere - Max Temp vs. Latitude Linear Regression')\n",
    "print(f\"The r-squared is: {rvalue}\")\n",
    "plt.savefig(\"Output/Southern Hemisphere Latitude vs. Max Temp.png\")\n",
    "plt.show()"
   ]
  },
  {
   "cell_type": "markdown",
   "metadata": {},
   "source": [
    "#### Analysis of Linear regression of Nothern and Southern Hemisphere for Max temp vs Latitude\n",
    "The regression shows a positive corelation for Southern hemisphere & negative Northern hemisphere. \n",
    "In the nothern hemisphere, as you move away from the equator the temperature decreases and the southern hemisphere, as you get closer to the equator the temperature increases."
   ]
  },
  {
   "cell_type": "code",
   "execution_count": null,
   "metadata": {},
   "outputs": [],
   "source": []
  }
 ],
 "metadata": {
  "kernelspec": {
   "display_name": "Python 3",
   "language": "python",
   "name": "python3"
  },
  "language_info": {
   "codemirror_mode": {
    "name": "ipython",
    "version": 3
   },
   "file_extension": ".py",
   "mimetype": "text/x-python",
   "name": "python",
   "nbconvert_exporter": "python",
   "pygments_lexer": "ipython3",
   "version": "3.8.5"
  }
 },
 "nbformat": 4,
 "nbformat_minor": 4
}
